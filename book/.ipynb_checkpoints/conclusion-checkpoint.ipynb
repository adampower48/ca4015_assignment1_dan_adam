{
 "cells": [
  {
   "cell_type": "markdown",
   "metadata": {},
   "source": [
    "# Conclusions"
   ]
  },
  {
   "cell_type": "markdown",
   "metadata": {},
   "source": [
    "## Clustering\n",
    "In this paper, we investigate the clustering of parameters of just one of the models used in the Iowa Gambling task, the Outcome-Representation Learning model. Our reason of choice was based on which system had the most interesting parameters to examine and cluster. Our findings in the data exploration page further proved our hypothesis after plotting the distributions of the parameters against each other.\n",
    "\n",
    "The most significant clustering result we discovered was when clustering BetaP and BetaK using K-Means. There were three distinct clusters of: \n",
    "1. A mainly old cluster of participants with a high perseverence.\n",
    "2. Another mainly old cluster of people with a low perseverence.\n",
    "3. A cluster of predominately young people centered around the middle with a more neutral BetaP score.\n",
    "\n",
    "This followed the distribution of the two parameters where, people who had a lower perseverence and preferred to switch decks in the task generally had a higher win frequency. Although there isn't enough data to solidify this conclusion, this is the result we found significant.\n",
    "\n"
   ]
  },
  {
   "cell_type": "code",
   "execution_count": null,
   "metadata": {},
   "outputs": [],
   "source": []
  }
 ],
 "metadata": {
  "kernelspec": {
   "display_name": "Python 3",
   "language": "python",
   "name": "python3"
  },
  "language_info": {
   "codemirror_mode": {
    "name": "ipython",
    "version": 3
   },
   "file_extension": ".py",
   "mimetype": "text/x-python",
   "name": "python",
   "nbconvert_exporter": "python",
   "pygments_lexer": "ipython3",
   "version": "3.8.3"
  }
 },
 "nbformat": 4,
 "nbformat_minor": 2
}
